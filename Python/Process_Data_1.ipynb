{
 "cells": [
  {
   "cell_type": "markdown",
   "metadata": {},
   "source": [
    "# Process Data 1\n",
    "\n",
    "Notebook with tools for analyzing, segmenting, and processing experimental data from force-sensing tensegrity.\n",
    "\n",
    "Andrew Barkan\n",
    "11/21/2019"
   ]
  },
  {
   "cell_type": "code",
   "execution_count": 10,
   "metadata": {},
   "outputs": [],
   "source": [
    "# Import packages\n",
    "import numpy as np\n",
    "import pandas as pd\n",
    "import matplotlib as plt\n",
    "import sklearn as sk"
   ]
  },
  {
   "cell_type": "markdown",
   "metadata": {},
   "source": [
    "Specify the experimental data you would like to load, and make sure this script has access to it."
   ]
  },
  {
   "cell_type": "code",
   "execution_count": 11,
   "metadata": {},
   "outputs": [
    {
     "data": {
      "text/html": [
       "<div>\n",
       "<style scoped>\n",
       "    .dataframe tbody tr th:only-of-type {\n",
       "        vertical-align: middle;\n",
       "    }\n",
       "\n",
       "    .dataframe tbody tr th {\n",
       "        vertical-align: top;\n",
       "    }\n",
       "\n",
       "    .dataframe thead th {\n",
       "        text-align: right;\n",
       "    }\n",
       "</style>\n",
       "<table border=\"1\" class=\"dataframe\">\n",
       "  <thead>\n",
       "    <tr style=\"text-align: right;\">\n",
       "      <th></th>\n",
       "      <th>time</th>\n",
       "      <th>FSR_1</th>\n",
       "      <th>FSR_2</th>\n",
       "      <th>FSR_3</th>\n",
       "      <th>FSR_4</th>\n",
       "      <th>FSR_5</th>\n",
       "      <th>FSR_6</th>\n",
       "      <th>FSR_7</th>\n",
       "      <th>FSR_8</th>\n",
       "      <th>FSR_9</th>\n",
       "      <th>FSR_10</th>\n",
       "      <th>FSR_11</th>\n",
       "      <th>FSR_12</th>\n",
       "      <th>ACC_X</th>\n",
       "      <th>ACC_Y</th>\n",
       "      <th>ACC_Z</th>\n",
       "    </tr>\n",
       "  </thead>\n",
       "  <tbody>\n",
       "    <tr>\n",
       "      <th>0</th>\n",
       "      <td>136744078</td>\n",
       "      <td>71</td>\n",
       "      <td>77</td>\n",
       "      <td>45</td>\n",
       "      <td>110</td>\n",
       "      <td>250</td>\n",
       "      <td>181</td>\n",
       "      <td>87</td>\n",
       "      <td>264</td>\n",
       "      <td>275</td>\n",
       "      <td>434</td>\n",
       "      <td>5</td>\n",
       "      <td>89</td>\n",
       "      <td>7.21</td>\n",
       "      <td>2.97</td>\n",
       "      <td>5.96</td>\n",
       "    </tr>\n",
       "    <tr>\n",
       "      <th>1</th>\n",
       "      <td>136745078</td>\n",
       "      <td>71</td>\n",
       "      <td>78</td>\n",
       "      <td>44</td>\n",
       "      <td>109</td>\n",
       "      <td>249</td>\n",
       "      <td>180</td>\n",
       "      <td>91</td>\n",
       "      <td>264</td>\n",
       "      <td>273</td>\n",
       "      <td>434</td>\n",
       "      <td>5</td>\n",
       "      <td>93</td>\n",
       "      <td>7.21</td>\n",
       "      <td>2.97</td>\n",
       "      <td>5.96</td>\n",
       "    </tr>\n",
       "    <tr>\n",
       "      <th>2</th>\n",
       "      <td>136746078</td>\n",
       "      <td>70</td>\n",
       "      <td>79</td>\n",
       "      <td>43</td>\n",
       "      <td>107</td>\n",
       "      <td>253</td>\n",
       "      <td>184</td>\n",
       "      <td>97</td>\n",
       "      <td>265</td>\n",
       "      <td>276</td>\n",
       "      <td>432</td>\n",
       "      <td>5</td>\n",
       "      <td>91</td>\n",
       "      <td>7.21</td>\n",
       "      <td>2.97</td>\n",
       "      <td>5.96</td>\n",
       "    </tr>\n",
       "    <tr>\n",
       "      <th>3</th>\n",
       "      <td>136747078</td>\n",
       "      <td>74</td>\n",
       "      <td>80</td>\n",
       "      <td>41</td>\n",
       "      <td>107</td>\n",
       "      <td>252</td>\n",
       "      <td>178</td>\n",
       "      <td>84</td>\n",
       "      <td>265</td>\n",
       "      <td>276</td>\n",
       "      <td>433</td>\n",
       "      <td>5</td>\n",
       "      <td>88</td>\n",
       "      <td>7.21</td>\n",
       "      <td>2.97</td>\n",
       "      <td>5.96</td>\n",
       "    </tr>\n",
       "    <tr>\n",
       "      <th>4</th>\n",
       "      <td>136750733</td>\n",
       "      <td>68</td>\n",
       "      <td>81</td>\n",
       "      <td>43</td>\n",
       "      <td>104</td>\n",
       "      <td>253</td>\n",
       "      <td>180</td>\n",
       "      <td>87</td>\n",
       "      <td>265</td>\n",
       "      <td>276</td>\n",
       "      <td>434</td>\n",
       "      <td>6</td>\n",
       "      <td>88</td>\n",
       "      <td>7.21</td>\n",
       "      <td>2.97</td>\n",
       "      <td>5.96</td>\n",
       "    </tr>\n",
       "  </tbody>\n",
       "</table>\n",
       "</div>"
      ],
      "text/plain": [
       "        time  FSR_1  FSR_2  FSR_3  FSR_4  FSR_5  FSR_6  FSR_7  FSR_8  FSR_9  \\\n",
       "0  136744078     71     77     45    110    250    181     87    264    275   \n",
       "1  136745078     71     78     44    109    249    180     91    264    273   \n",
       "2  136746078     70     79     43    107    253    184     97    265    276   \n",
       "3  136747078     74     80     41    107    252    178     84    265    276   \n",
       "4  136750733     68     81     43    104    253    180     87    265    276   \n",
       "\n",
       "   FSR_10  FSR_11  FSR_12  ACC_X  ACC_Y  ACC_Z  \n",
       "0     434       5      89   7.21   2.97   5.96  \n",
       "1     434       5      93   7.21   2.97   5.96  \n",
       "2     432       5      91   7.21   2.97   5.96  \n",
       "3     433       5      88   7.21   2.97   5.96  \n",
       "4     434       6      88   7.21   2.97   5.96  "
      ]
     },
     "execution_count": 11,
     "metadata": {},
     "output_type": "execute_result"
    }
   ],
   "source": [
    "# Change to reflect your working directory for the repo\n",
    "#data_filename = r\"C:\\Users\\Andrew\\Documents\\GitHub\\Tensegrity-HRI\\Data\\test_2019_10_21\\test_1\\TEST1.csv\"\n",
    "data_filename = r\"/home/andrew/Documents/BEST/Tensegrity-HRI/Data/test_2019_11_19/test_1/TEST1A1.CSV\"\n",
    "\n",
    "raw_data = pd.read_csv(data_filename, names = [\"IND\", \"time\", \"FSR_1\", \"FSR_2\", \"FSR_3\", \"FSR_4\", \"FSR_5\", \n",
    "                                               \"FSR_6\", \"FSR_7\", \"FSR_8\", \"FSR_9\", \"FSR_10\", \"FSR_11\", \"FSR_12\",\n",
    "                                              \"ACC_X\", \"ACC_Y\", \"ACC_Z\"])\n",
    "# Remove indicator column\n",
    "raw_data = raw_data.drop(columns = [\"IND\"])\n",
    "raw_data.head()"
   ]
  },
  {
   "cell_type": "code",
   "execution_count": 12,
   "metadata": {},
   "outputs": [],
   "source": [
    "# Convert from microsecs to seconds\n",
    "raw_data[\"time\"] = raw_data[\"time\"].apply(lambda x: (x-raw_data[\"time\"][0])*1e-6)\n",
    "raw_data = raw_data.set_index(\"time\")"
   ]
  },
  {
   "cell_type": "code",
   "execution_count": 13,
   "metadata": {},
   "outputs": [],
   "source": [
    "# Split data into force and acceleration data\n",
    "raw_fsr_data = raw_data[[\"FSR_1\", \"FSR_2\", \"FSR_3\", \"FSR_4\", \"FSR_5\", \n",
    "                        \"FSR_6\", \"FSR_7\", \"FSR_8\", \"FSR_9\", \"FSR_10\", \"FSR_11\", \"FSR_12\"]]\n",
    "\n",
    "raw_acc_data = raw_data[[\"ACC_X\", \"ACC_Y\", \"ACC_Z\"]]"
   ]
  },
  {
   "cell_type": "code",
   "execution_count": 14,
   "metadata": {},
   "outputs": [],
   "source": [
    "# Reorder FSR data based on conventions\n",
    "raw_fsr_data = raw_fsr_data[[\"FSR_9\", \"FSR_10\", \"FSR_2\", \"FSR_1\", \"FSR_5\", \"FSR_6\", \n",
    "                             \"FSR_7\", \"FSR_8\", \"FSR_12\", \"FSR_11\", \"FSR_4\", \"FSR_3\"]]\n",
    "raw_fsr_data.columns = [\"FSR_1\", \"FSR_2\", \"FSR_3\", \"FSR_4\", \"FSR_5\", \n",
    "                        \"FSR_6\", \"FSR_7\", \"FSR_8\", \"FSR_9\", \"FSR_10\", \"FSR_11\", \"FSR_12\"]"
   ]
  },
  {
   "cell_type": "code",
   "execution_count": 15,
   "metadata": {},
   "outputs": [],
   "source": [
    "# Force divider function\n",
    "def force_divider(x):\n",
    "    k_outer = 3.738\n",
    "    k_inner = 0.368\n",
    "    dist = x/k_inner\n",
    "    return (k_outer + k_inner)*dist\n",
    "\n",
    "# FSR model function\n",
    "def FSR_model(x):\n",
    "    return 131.2*np.exp(0.7801*x)/1000"
   ]
  },
  {
   "cell_type": "code",
   "execution_count": 16,
   "metadata": {},
   "outputs": [
    {
     "data": {
      "text/html": [
       "<div>\n",
       "<style scoped>\n",
       "    .dataframe tbody tr th:only-of-type {\n",
       "        vertical-align: middle;\n",
       "    }\n",
       "\n",
       "    .dataframe tbody tr th {\n",
       "        vertical-align: top;\n",
       "    }\n",
       "\n",
       "    .dataframe thead th {\n",
       "        text-align: right;\n",
       "    }\n",
       "</style>\n",
       "<table border=\"1\" class=\"dataframe\">\n",
       "  <thead>\n",
       "    <tr style=\"text-align: right;\">\n",
       "      <th></th>\n",
       "      <th>FSR_1</th>\n",
       "      <th>FSR_2</th>\n",
       "      <th>FSR_3</th>\n",
       "      <th>FSR_4</th>\n",
       "      <th>FSR_5</th>\n",
       "      <th>FSR_6</th>\n",
       "      <th>FSR_7</th>\n",
       "      <th>FSR_8</th>\n",
       "      <th>FSR_9</th>\n",
       "      <th>FSR_10</th>\n",
       "      <th>FSR_11</th>\n",
       "      <th>FSR_12</th>\n",
       "    </tr>\n",
       "    <tr>\n",
       "      <th>time</th>\n",
       "      <th></th>\n",
       "      <th></th>\n",
       "      <th></th>\n",
       "      <th></th>\n",
       "      <th></th>\n",
       "      <th></th>\n",
       "      <th></th>\n",
       "      <th></th>\n",
       "      <th></th>\n",
       "      <th></th>\n",
       "      <th></th>\n",
       "      <th></th>\n",
       "    </tr>\n",
       "  </thead>\n",
       "  <tbody>\n",
       "    <tr>\n",
       "      <th>0.000000</th>\n",
       "      <td>4.177073</td>\n",
       "      <td>7.658735</td>\n",
       "      <td>1.963395</td>\n",
       "      <td>1.918989</td>\n",
       "      <td>3.797301</td>\n",
       "      <td>2.918901</td>\n",
       "      <td>2.039701</td>\n",
       "      <td>4.005506</td>\n",
       "      <td>2.055315</td>\n",
       "      <td>1.492053</td>\n",
       "      <td>2.226649</td>\n",
       "      <td>1.737879</td>\n",
       "    </tr>\n",
       "    <tr>\n",
       "      <th>0.001000</th>\n",
       "      <td>4.145341</td>\n",
       "      <td>7.658735</td>\n",
       "      <td>1.970896</td>\n",
       "      <td>1.918989</td>\n",
       "      <td>3.782850</td>\n",
       "      <td>2.907793</td>\n",
       "      <td>2.071048</td>\n",
       "      <td>4.005506</td>\n",
       "      <td>2.086901</td>\n",
       "      <td>1.492053</td>\n",
       "      <td>2.218176</td>\n",
       "      <td>1.731266</td>\n",
       "    </tr>\n",
       "    <tr>\n",
       "      <th>0.002000</th>\n",
       "      <td>4.193030</td>\n",
       "      <td>7.600555</td>\n",
       "      <td>1.978425</td>\n",
       "      <td>1.911686</td>\n",
       "      <td>3.840986</td>\n",
       "      <td>2.952480</td>\n",
       "      <td>2.118973</td>\n",
       "      <td>4.020807</td>\n",
       "      <td>2.071048</td>\n",
       "      <td>1.492053</td>\n",
       "      <td>2.201325</td>\n",
       "      <td>1.724677</td>\n",
       "    </tr>\n",
       "    <tr>\n",
       "      <th>0.003000</th>\n",
       "      <td>4.193030</td>\n",
       "      <td>7.629589</td>\n",
       "      <td>1.985982</td>\n",
       "      <td>1.941065</td>\n",
       "      <td>3.826369</td>\n",
       "      <td>2.885703</td>\n",
       "      <td>2.016503</td>\n",
       "      <td>4.020807</td>\n",
       "      <td>2.047493</td>\n",
       "      <td>1.492053</td>\n",
       "      <td>2.201325</td>\n",
       "      <td>1.711575</td>\n",
       "    </tr>\n",
       "    <tr>\n",
       "      <th>0.006655</th>\n",
       "      <td>4.193030</td>\n",
       "      <td>7.658735</td>\n",
       "      <td>1.993569</td>\n",
       "      <td>1.897164</td>\n",
       "      <td>3.840986</td>\n",
       "      <td>2.907793</td>\n",
       "      <td>2.039701</td>\n",
       "      <td>4.020807</td>\n",
       "      <td>2.047493</td>\n",
       "      <td>1.497753</td>\n",
       "      <td>2.176289</td>\n",
       "      <td>1.724677</td>\n",
       "    </tr>\n",
       "  </tbody>\n",
       "</table>\n",
       "</div>"
      ],
      "text/plain": [
       "             FSR_1     FSR_2     FSR_3     FSR_4     FSR_5     FSR_6  \\\n",
       "time                                                                   \n",
       "0.000000  4.177073  7.658735  1.963395  1.918989  3.797301  2.918901   \n",
       "0.001000  4.145341  7.658735  1.970896  1.918989  3.782850  2.907793   \n",
       "0.002000  4.193030  7.600555  1.978425  1.911686  3.840986  2.952480   \n",
       "0.003000  4.193030  7.629589  1.985982  1.941065  3.826369  2.885703   \n",
       "0.006655  4.193030  7.658735  1.993569  1.897164  3.840986  2.907793   \n",
       "\n",
       "             FSR_7     FSR_8     FSR_9    FSR_10    FSR_11    FSR_12  \n",
       "time                                                                  \n",
       "0.000000  2.039701  4.005506  2.055315  1.492053  2.226649  1.737879  \n",
       "0.001000  2.071048  4.005506  2.086901  1.492053  2.218176  1.731266  \n",
       "0.002000  2.118973  4.020807  2.071048  1.492053  2.201325  1.724677  \n",
       "0.003000  2.016503  4.020807  2.047493  1.492053  2.201325  1.711575  \n",
       "0.006655  2.039701  4.020807  2.047493  1.497753  2.176289  1.724677  "
      ]
     },
     "execution_count": 16,
     "metadata": {},
     "output_type": "execute_result"
    }
   ],
   "source": [
    "# Convert FSR signals to actual forces in N\n",
    "fsr_data = raw_fsr_data[[\"FSR_1\", \"FSR_2\", \"FSR_3\", \"FSR_4\", \"FSR_5\", \n",
    "                         \"FSR_6\", \"FSR_7\", \"FSR_8\", \"FSR_9\", \"FSR_10\", \"FSR_11\", \"FSR_12\"]] = raw_fsr_data[[\n",
    "    \"FSR_1\", \"FSR_2\", \"FSR_3\", \"FSR_4\", \"FSR_5\", \"FSR_6\", \"FSR_7\", \"FSR_8\", \"FSR_9\", \"FSR_10\", \"FSR_11\", \"FSR_12\"]].apply(\n",
    "    lambda x: force_divider(FSR_model(x*(5/1023))), axis=1).copy()\n",
    "\n",
    "\n",
    "fsr_data.head()"
   ]
  },
  {
   "cell_type": "code",
   "execution_count": 17,
   "metadata": {},
   "outputs": [
    {
     "data": {
      "text/plain": [
       "<matplotlib.axes._subplots.AxesSubplot at 0x7f83f38cffd0>"
      ]
     },
     "execution_count": 17,
     "metadata": {},
     "output_type": "execute_result"
    }
   ],
   "source": [
    "# An example plot of force data over time\n",
    "fsr_data.plot(figsize=(15,10))"
   ]
  },
  {
   "cell_type": "code",
   "execution_count": 18,
   "metadata": {},
   "outputs": [
    {
     "data": {
      "text/plain": [
       "<matplotlib.axes._subplots.AxesSubplot at 0x7f83f37354a8>"
      ]
     },
     "execution_count": 18,
     "metadata": {},
     "output_type": "execute_result"
    },
    {
     "data": {
      "image/png": "[encoded data removed]",
      "text/plain": [
       "<Figure size 1080x720 with 1 Axes>"
      ]
     },
     "metadata": {
      "needs_background": "light"
     },
     "output_type": "display_data"
    }
   ],
   "source": [
    "fsr_data[\"FSR_2\"].plot(figsize=(15,10))"
   ]
  },
  {
   "cell_type": "code",
   "execution_count": null,
   "metadata": {},
   "outputs": [],
   "source": []
  }
 ],
 "metadata": {
  "kernelspec": {
   "display_name": "Python 3",
   "language": "python",
   "name": "python3"
  },
  "language_info": {
   "codemirror_mode": {
    "name": "ipython",
    "version": 3
   },
   "file_extension": ".py",
   "mimetype": "text/x-python",
   "name": "python",
   "nbconvert_exporter": "python",
   "pygments_lexer": "ipython3",
   "version": "3.7.1"
  }
 },
 "nbformat": 4,
 "nbformat_minor": 2
}
