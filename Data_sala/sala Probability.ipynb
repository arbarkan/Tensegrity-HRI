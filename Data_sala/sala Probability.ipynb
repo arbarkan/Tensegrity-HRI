{
 "cells": [
  {
   "cell_type": "code",
   "execution_count": 2,
   "metadata": {},
   "outputs": [],
   "source": [
    "import matplotlib.pyplot as plt\n",
    "\n",
    "import numpy as np\n",
    "import pandas as pd\n",
    "\n",
    "from sklearn.datasets import make_blobs\n",
    "from sklearn.ensemble import RandomForestClassifier\n",
    "from sklearn.calibration import CalibratedClassifierCV\n",
    "from sklearn.metrics import log_loss\n",
    "import matplotlib.pyplot as plt\n",
    "from matplotlib.pyplot import figure\n",
    "import sklearn as sk\n",
    "import scipy as sp\n",
    "from scipy import signal\n",
    "from sklearn.naive_bayes import GaussianNB\n",
    "from sklearn.model_selection import train_test_split\n",
    "from sklearn.linear_model import RidgeClassifier\n",
    "import tensorflow as tf\n",
    "import math\n",
    "import time\n",
    "\n",
    "import matplotlib.pyplot as plt\n",
    "from sklearn import svm, datasets\n",
    "from sklearn.metrics import roc_curve, auc\n",
    "from sklearn.preprocessing import label_binarize\n",
    "from sklearn.multiclass import OneVsRestClassifier"
   ]
  },
  {
   "cell_type": "code",
   "execution_count": 3,
   "metadata": {},
   "outputs": [],
   "source": [
    "# Import and organize data. Use only FSR data\n",
    "\n",
    "filepath = \"/Users/salatiemann/Documents/UC Berkeley/Year 3 Sem 2 (Spring 2020)/Tensegrity-HRI/Data_sala/test\"\n",
    "test_numbers = ['01','02','03','04','05','06','07','08','09','10','11','12','13','14','15','16','17','18','19','20',\n",
    "      '21','22','23','24','25','26','27','28','29','30','31','32','33','34','35','36','37','38','39','40',\n",
    "      '41','42','43','44','45','46','47','48','49','50','51','52','53','54','55','56','57','58','59','60',\n",
    "      '61','62','63','64','65','66','67','68','69','70','71','72']\n",
    "data = []\n",
    "for num in test_numbers:\n",
    "    filename = filepath + num + '.csv'\n",
    "    d = pd.read_csv(filename, names = [\"time\", \"IND\", \"FSR_1\", \"FSR_2\", \"FSR_3\", \"FSR_4\", \"FSR_5\", \"FSR_6\", \"FSR_7\", \n",
    "                                   \"FSR_8\", \"FSR_9\", \"FSR_10\", \"FSR_11\", \"FSR_12\",\"ACC_X\", \"ACC_Y\", \"ACC_Z\"])\n",
    "    d1 = d.drop(columns = [\"IND\", \"time\"])\n",
    "    d1 = d1.drop(columns = [\"ACC_X\", \"ACC_Y\", \"ACC_Z\"])\n",
    "    d1 = d1.to_numpy()\n",
    "    d1 = d1[0:7000]\n",
    "    data.append(d1)"
   ]
  },
  {
   "cell_type": "code",
   "execution_count": 69,
   "metadata": {},
   "outputs": [
    {
     "data": {
      "text/plain": [
       "(72, 7000, 12)"
      ]
     },
     "execution_count": 69,
     "metadata": {},
     "output_type": "execute_result"
    }
   ],
   "source": [
    "np.shape(data)"
   ]
  },
  {
   "cell_type": "code",
   "execution_count": 5,
   "metadata": {},
   "outputs": [],
   "source": [
    "y = [0,0,0,3,1,1,1,1,1,1,3,0,1,1,1,1,1,1,2,2,2,2,2,2,2,2,0,2,2,2,2,2,2,1,1,1,1,0,3,1,1,1,1,1,1,1,1,1,1,1,1,1,1,1,\n",
    "         1,2,3,3,3,3,3,2,2,2,0,0,1,1,2,2,3,3]"
   ]
  },
  {
   "cell_type": "code",
   "execution_count": 6,
   "metadata": {},
   "outputs": [
    {
     "data": {
      "text/plain": [
       "72"
      ]
     },
     "execution_count": 6,
     "metadata": {},
     "output_type": "execute_result"
    }
   ],
   "source": [
    "len(y)"
   ]
  },
  {
   "cell_type": "code",
   "execution_count": 7,
   "metadata": {},
   "outputs": [],
   "source": [
    "# This feature returns the percent of data points that are below 75% of the max\n",
    "\n",
    "def three_quarters(column,percent):\n",
    "    max = np.max(column)\n",
    "    three_fourths = percent*max\n",
    "    e = []\n",
    "    j=0\n",
    "    for i in range(len(column)):\n",
    "        if column[i] <= .75*np.max(column):\n",
    "            j+=1\n",
    "    return j/len(column)"
   ]
  },
  {
   "cell_type": "code",
   "execution_count": null,
   "metadata": {},
   "outputs": [],
   "source": [
    "# This feature takes the max of each column, takes the data point [change_factor] ms after that, and then normalizes \n",
    "# the difference\n",
    "\n",
    "def change_in_max(column, change_factor):\n",
    "    max_index = np.argmax(column)\n",
    "    minus_change_index = max_index - change_factor\n",
    "    if minus_change_index > 0:\n",
    "        minus_change_value = column[minus_change_index]\n",
    "    else:\n",
    "        minus_change_index = max_index + change_factor\n",
    "        minus_change_value = column[minus_change_index]\n",
    "    diff = np.max(column) - minus_change_value\n",
    "    normalized = diff/np.std(column)\n",
    "    return normalized"
   ]
  },
  {
   "cell_type": "code",
   "execution_count": null,
   "metadata": {},
   "outputs": [],
   "source": [
    "# This function takes all 72 data points of size (7001,16) and puts them into feature-engineered array (all features).\n",
    "# Desired shape: 72 data points of size (6,16) --> (72,6,16)\n",
    "\n",
    "def features(array, three_quarters_percent, change_in_max_change_factor):\n",
    "    len_dataset, _, number_of_columns = np.shape(array)\n",
    "    number_of_features = 6\n",
    "    condensed_data = np.zeros((len_dataset,number_of_features,number_of_columns))\n",
    "    for j in range(72):\n",
    "        data_point = array[j]\n",
    "        number_of_columns = len(data_point[0,:])\n",
    "        D = np.zeros((number_of_features,number_of_columns),dtype=np.float64)\n",
    "        for i in range(number_of_columns):\n",
    "            column = data_point[:,i]\n",
    "            D[0,i] = np.mean(column)\n",
    "            D[1,i] = np.var(column)\n",
    "            D[2,i] = np.max(column)-np.min(column)\n",
    "            D[3,i] = three_quarters(column,three_quarters_percent)\n",
    "            D[4,i] = change_in_max(column,change_in_max_change_factor)\n",
    "            D[5,i] = np.sum(column)/np.max(column) #or np.std(column). MAX WORKS THE BEST! went from 80% or so to 100%\n",
    "        condensed_data[j]=D\n",
    "        if np.mod(j,6) == 0:\n",
    "            print(j, end=\" \")\n",
    "    return condensed_data"
   ]
  },
  {
   "cell_type": "code",
   "execution_count": 8,
   "metadata": {},
   "outputs": [],
   "source": [
    "# Condense data into averages over a specified number of data points\n",
    "\n",
    "def condense(array, condense_factor):\n",
    "    len_dataset, _, number_of_columns = np.shape(array)\n",
    "    length = len(array[0])\n",
    "    condensed_length = int((length/condense_factor))\n",
    "    condensed_data = np.zeros((len_dataset,condensed_length,number_of_columns))\n",
    "    for j in range(len_dataset):\n",
    "        data_point = array[j]\n",
    "        for k in range(number_of_columns):\n",
    "            column = data_point[:,k]\n",
    "            for i in range(condensed_length):\n",
    "                condensed_data[j][i,k] = np.mean(column[i*condense_factor:(i*condense_factor+condense_factor)])\n",
    "    return condensed_data"
   ]
  },
  {
   "cell_type": "code",
   "execution_count": 9,
   "metadata": {},
   "outputs": [],
   "source": [
    "# Takes the max of all features from the 16 datapoints. Output is 72 sets of 1 by 6 data, where each of the 6 points\n",
    "# is the max of each feature from the set. \n",
    "\n",
    "def everything_max(array):\n",
    "    len_dataset, num_features, num_datapoints = np.shape(array)\n",
    "    maxed_data = np.zeros((len_dataset, 1, num_features))\n",
    "    for i in range(len_dataset):\n",
    "        datapoint = array[i]\n",
    "        D = np.zeros((1, num_features))\n",
    "        for j in range(num_features):\n",
    "            D[0,j] = max(datapoint[:,j])\n",
    "        maxed_data[i] = D\n",
    "    return maxed_data"
   ]
  },
  {
   "cell_type": "code",
   "execution_count": 11,
   "metadata": {},
   "outputs": [
    {
     "name": "stdout",
     "output_type": "stream",
     "text": [
      "0 6 12 18 24 30 36 42 48 54 60 66 "
     ]
    },
    {
     "data": {
      "text/plain": [
       "(72, 6, 12)"
      ]
     },
     "execution_count": 11,
     "metadata": {},
     "output_type": "execute_result"
    }
   ],
   "source": [
    "# Normalize and feature-ify the data\n",
    "normalized_data = data/np.max(data)\n",
    "normalized_featured_data = features(normalized_data,.75,50)\n",
    "np.shape(normalized_featured_data)"
   ]
  },
  {
   "cell_type": "code",
   "execution_count": 33,
   "metadata": {},
   "outputs": [],
   "source": [
    "# Make dataset that only has max of each feature\n",
    "maxed_data = everything_max(normalized_featured_data)"
   ]
  },
  {
   "cell_type": "code",
   "execution_count": 34,
   "metadata": {},
   "outputs": [
    {
     "data": {
      "text/plain": [
       "(72, 1, 6)"
      ]
     },
     "execution_count": 34,
     "metadata": {},
     "output_type": "execute_result"
    }
   ],
   "source": [
    "# Turn 3D array into 2D array\n",
    "np.shape(maxed_data)"
   ]
  },
  {
   "cell_type": "code",
   "execution_count": 241,
   "metadata": {},
   "outputs": [],
   "source": [
    "# Turn 3D array into 2D array. Put features together later if possible?\n",
    "\n",
    "def two_d(data):\n",
    "    len_data, num_cols, num_points = np.shape(data)\n",
    "    data_new = np.zeros((len_data, num_cols*num_points))\n",
    "    for i in range(len_data):\n",
    "        current = data[i]\n",
    "        for j in range(num_cols):\n",
    "            for k in range(num_points):\n",
    "                data_new[i][num_points*j+k] = current[j][k]\n",
    "    return data_new"
   ]
  },
  {
   "cell_type": "code",
   "execution_count": 249,
   "metadata": {},
   "outputs": [],
   "source": [
    "def add_probs(array):\n",
    "    new_probs = np.zeros((4, 4))\n",
    "    for i in [0,2,4,6]:\n",
    "        ind=np.int(i/2)\n",
    "        for j in range(4):\n",
    "            new_probs[ind][j] = array[i][j]+array[i+1][j]\n",
    "    new_probs=np.transpose(new_probs)*100\n",
    "    return new_probs/2"
   ]
  },
  {
   "cell_type": "code",
   "execution_count": 243,
   "metadata": {},
   "outputs": [],
   "source": [
    "# Compare normalized vs. non-normalized data with 100 estimators\n",
    "\n",
    "# non-normalized data\n",
    "x = two_d(data)\n",
    "x_train, y_train = x[:32], y[:32]\n",
    "x_valid, y_valid = x[32:64], y[32:64]\n",
    "x_train_valid, y_train_valid = x[:64], y[:64]\n",
    "x_test, y_test = x[64:], y[64:]"
   ]
  },
  {
   "cell_type": "code",
   "execution_count": 244,
   "metadata": {},
   "outputs": [],
   "source": [
    "clf = RandomForestClassifier(n_estimators=100)\n",
    "clf.fit(x_train_valid, y_train_valid)\n",
    "clf_probs1 = clf.predict_proba(x_test)\n",
    "score = log_loss(y_test, clf_probs)"
   ]
  },
  {
   "cell_type": "code",
   "execution_count": 245,
   "metadata": {},
   "outputs": [],
   "source": [
    "# normalized data\n",
    "x = two_d(normalized_data)\n",
    "x_train, y_train = x[:32], y[:32]\n",
    "x_valid, y_valid = x[32:64], y[32:64]\n",
    "x_train_valid, y_train_valid = x[:64], y[:64]\n",
    "x_test, y_test = x[64:], y[64:]"
   ]
  },
  {
   "cell_type": "code",
   "execution_count": 246,
   "metadata": {},
   "outputs": [],
   "source": [
    "clf = RandomForestClassifier(n_estimators=100)\n",
    "clf.fit(x_train_valid, y_train_valid)\n",
    "clf_probs2 = clf.predict_proba(x_test)\n",
    "score = log_loss(y_test, clf_probs)"
   ]
  },
  {
   "cell_type": "code",
   "execution_count": 250,
   "metadata": {},
   "outputs": [
    {
     "data": {
      "text/plain": [
       "array([[51. ,  0.5,  4. ,  1. ],\n",
       "       [16.5, 84.5, 24.5, 28.5],\n",
       "       [15.5, 10.5, 51. , 25. ],\n",
       "       [17. ,  4.5, 20.5, 45.5]])"
      ]
     },
     "execution_count": 250,
     "metadata": {},
     "output_type": "execute_result"
    }
   ],
   "source": [
    "new_probs1 = add_probs(clf_probs1)\n",
    "new_probs2 = add_probs(clf_probs2)\n",
    "new_probs1"
   ]
  },
  {
   "cell_type": "code",
   "execution_count": 253,
   "metadata": {},
   "outputs": [
    {
     "data": {
      "text/plain": [
       "array([[48.5,  2. ,  2.5,  4. ],\n",
       "       [22.5, 81. , 22. , 24.5],\n",
       "       [ 9. , 11.5, 54. , 21. ],\n",
       "       [20. ,  5.5, 21.5, 50.5]])"
      ]
     },
     "execution_count": 253,
     "metadata": {},
     "output_type": "execute_result"
    }
   ],
   "source": [
    "new_probs2"
   ]
  },
  {
   "cell_type": "code",
   "execution_count": 266,
   "metadata": {},
   "outputs": [
    {
     "data": {
      "image/png": "[encoded data removed]",
      "text/plain": [
       "<Figure size 1296x432 with 2 Axes>"
      ]
     },
     "metadata": {
      "needs_background": "light"
     },
     "output_type": "display_data"
    }
   ],
   "source": [
    "N = 4\n",
    "label0 = new_probs1[0]\n",
    "label1 = new_probs1[1]\n",
    "label2 = new_probs1[2]\n",
    "label3 = new_probs1[3]\n",
    "\n",
    " \n",
    "# The position of the bars on the x-axis\n",
    "r = [0,1,2,3]\n",
    " \n",
    "# Names of group and bar width\n",
    "names = ['label0','label1','label2','label3']\n",
    "barWidth = 1\n",
    " \n",
    "fig= plt.figure(figsize=(18,6))\n",
    "\n",
    "plt.subplot(1,2,1)\n",
    "    \n",
    "plt.bar(r, label0, color = 'y',edgecolor='white', width=barWidth)\n",
    "plt.bar(r, label1, bottom=label0, color='g',edgecolor='white', width=barWidth)\n",
    "plt.bar(r, label2, bottom=label1+label0, color='b', edgecolor='white', width=barWidth)\n",
    "plt.bar(r, label3, bottom=label2+label1+label0, color = 'c', edgecolor='white', width=barWidth)\n",
    "plt.legend(('0 (node)', '1 (squeeze)','2 (drop)','3 (nothing)'))\n",
    " \n",
    "plt.xticks(r, names)\n",
    "plt.xlabel(\"true test value\")\n",
    "plt.ylabel('Probability')\n",
    "plt.title('Class Probabilities for Non-Normalized Data')\n",
    "\n",
    "# Second subplot\n",
    "\n",
    "plt.subplot(1, 2, 2)\n",
    "\n",
    "label0 = new_probs2[0]\n",
    "label1 = new_probs2[1]\n",
    "label2 = new_probs2[2]\n",
    "label3 = new_probs2[3]\n",
    "    \n",
    "plt.bar(r, label0, color = 'y',edgecolor='white', width=barWidth)\n",
    "plt.bar(r, label1, bottom=label0, color='g',edgecolor='white', width=barWidth)\n",
    "plt.bar(r, label2, bottom=label1+label0, color='b', edgecolor='white', width=barWidth)\n",
    "plt.bar(r, label3, bottom=label2+label1+label0, color = 'c', edgecolor='white', width=barWidth)\n",
    "plt.legend(('0 (node)', '1 (squeeze)','2 (drop)','3 (nothing)'))\n",
    " \n",
    "plt.xticks(r, names)\n",
    "plt.xlabel(\"true test value\")\n",
    "plt.ylabel('Probability')\n",
    "plt.title('Class Probabilities for Normalized Data')\n",
    "\n",
    "plt.show()\n"
   ]
  },
  {
   "cell_type": "code",
   "execution_count": 267,
   "metadata": {},
   "outputs": [
    {
     "data": {
      "text/plain": [
       "array([[0.723, 0.072, 0.007, 0.198],\n",
       "       [0.209, 0.317, 0.314, 0.16 ],\n",
       "       [0.016, 0.807, 0.152, 0.025],\n",
       "       [0.01 , 0.845, 0.093, 0.052],\n",
       "       [0.067, 0.249, 0.547, 0.137],\n",
       "       [0.022, 0.267, 0.453, 0.258],\n",
       "       [0.021, 0.265, 0.29 , 0.424],\n",
       "       [0.012, 0.262, 0.226, 0.5  ]])"
      ]
     },
     "execution_count": 267,
     "metadata": {},
     "output_type": "execute_result"
    }
   ],
   "source": [
    "clf_probs"
   ]
  },
  {
   "cell_type": "code",
   "execution_count": 282,
   "metadata": {},
   "outputs": [],
   "source": [
    "# Compare feature-ified vs. non-feature-ified data\n",
    "\n",
    "# non-featured data\n",
    "x = normalized_data\n",
    "x_train, y_train = x[:32], y[:32]\n",
    "x_valid, y_valid = x[32:64], y[32:64]\n",
    "x_train_valid, y_train_valid = x[:64], y[:64]\n",
    "x_test, y_test = x[64:], y[64:]\n",
    "\n",
    "clf = RandomForestClassifier(n_estimators=100)\n",
    "clf.fit(x_train_valid, y_train_valid)\n",
    "clf_probs1 = clf.predict_proba(x_test)\n",
    "score = log_loss(y_test, clf_probs)\n",
    "\n",
    "#featured data\n",
    "x = normalized_featured_data\n",
    "x_train, y_train = x[:32], y[:32]\n",
    "x_valid, y_valid = x[32:64], y[32:64]\n",
    "x_train_valid, y_train_valid = x[:64], y[:64]\n",
    "x_test, y_test = x[64:], y[64:]\n",
    "\n",
    "clf = RandomForestClassifier(n_estimators=100)\n",
    "clf.fit(x_train_valid, y_train_valid)\n",
    "clf_probs2 = clf.predict_proba(x_test)\n",
    "score = log_loss(y_test, clf_probs)"
   ]
  },
  {
   "cell_type": "code",
   "execution_count": 283,
   "metadata": {},
   "outputs": [],
   "source": [
    "new_probs1 = add_probs(clf_probs1)\n",
    "new_probs2 = add_probs(clf_probs2)"
   ]
  },
  {
   "cell_type": "code",
   "execution_count": 284,
   "metadata": {},
   "outputs": [
    {
     "data": {
      "image/png": "[encoded data removed]",
      "text/plain": [
       "<Figure size 1296x432 with 2 Axes>"
      ]
     },
     "metadata": {
      "needs_background": "light"
     },
     "output_type": "display_data"
    }
   ],
   "source": [
    "N = 4\n",
    "label0 = new_probs1[0]\n",
    "label1 = new_probs1[1]\n",
    "label2 = new_probs1[2]\n",
    "label3 = new_probs1[3]\n",
    "\n",
    " \n",
    "# The position of the bars on the x-axis\n",
    "r = [0,1,2,3]\n",
    " \n",
    "# Names of group and bar width\n",
    "names = ['label0','label1','label2','label3']\n",
    "barWidth = 1\n",
    " \n",
    "fig= plt.figure(figsize=(18,6))\n",
    "\n",
    "plt.subplot(1,2,1)\n",
    "    \n",
    "plt.bar(r, label0, color = 'y',edgecolor='white', width=barWidth)\n",
    "plt.bar(r, label1, bottom=label0, color='g',edgecolor='white', width=barWidth)\n",
    "plt.bar(r, label2, bottom=label1+label0, color='b', edgecolor='white', width=barWidth)\n",
    "plt.bar(r, label3, bottom=label2+label1+label0, color = 'c', edgecolor='white', width=barWidth)\n",
    "plt.legend(('0 (node)', '1 (squeeze)','2 (drop)','3 (nothing)'))\n",
    " \n",
    "plt.xticks(r, names)\n",
    "plt.xlabel(\"true test value\")\n",
    "plt.ylabel('Probability')\n",
    "plt.title('Class Probabilities for Non-Featured Data')\n",
    "\n",
    "# Second subplot\n",
    "\n",
    "plt.subplot(1, 2, 2)\n",
    "\n",
    "label0 = new_probs2[0]\n",
    "label1 = new_probs2[1]\n",
    "label2 = new_probs2[2]\n",
    "label3 = new_probs2[3]\n",
    "    \n",
    "plt.bar(r, label0, color = 'y',edgecolor='white', width=barWidth)\n",
    "plt.bar(r, label1, bottom=label0, color='g',edgecolor='white', width=barWidth)\n",
    "plt.bar(r, label2, bottom=label1+label0, color='b', edgecolor='white', width=barWidth)\n",
    "plt.bar(r, label3, bottom=label2+label1+label0, color = 'c', edgecolor='white', width=barWidth)\n",
    "plt.legend(('0 (node)', '1 (squeeze)','2 (drop)','3 (nothing)'))\n",
    " \n",
    "plt.xticks(r, names)\n",
    "plt.xlabel(\"true test value\")\n",
    "plt.ylabel('Probability')\n",
    "plt.title('Class Probabilities for Featured Data')\n",
    "\n",
    "plt.show()\n"
   ]
  },
  {
   "cell_type": "code",
   "execution_count": 321,
   "metadata": {},
   "outputs": [],
   "source": [
    "condensed_data = condense(data,1000)"
   ]
  },
  {
   "cell_type": "code",
   "execution_count": 333,
   "metadata": {},
   "outputs": [
    {
     "data": {
      "image/png": "[encoded data removed]",
      "text/plain": [
       "<Figure size 1296x432 with 2 Axes>"
      ]
     },
     "metadata": {
      "needs_background": "light"
     },
     "output_type": "display_data"
    }
   ],
   "source": [
    "# Feature-engineered data: cross-validation vs. not\n",
    "# This compares the classifier when trained on 64 data points and tested on the last 8 vs. when it is trained on \n",
    "# the first 32 data points, validated on the next 32 data points, and tested on the last 8\n",
    "\n",
    "# Feature-engineered data\n",
    "x = normalized_featured_data\n",
    "x_train, y_train = x[:32], y[:32]\n",
    "x_valid, y_valid = x[32:64], y[32:64]\n",
    "x_train_valid, y_train_valid = x[:64], y[:64]\n",
    "x_test, y_test = x[64:], y[64:]\n",
    "\n",
    "# Train uncalibrated random forest classifier on whole train and validation data and evaluate on test data\n",
    "clf = RandomForestClassifier(n_estimators=1000)\n",
    "clf.fit(x_train_valid, y_train_valid)\n",
    "clf_probs1 = clf.predict_proba(x_test)\n",
    "score = log_loss(y_test, clf_probs)\n",
    "\n",
    "# Train random forest classifier, calibrate on validation data and evaluate on test data\n",
    "clf = RandomForestClassifier(n_estimators=1000)\n",
    "clf.fit(x_train, y_train)\n",
    "clf_probs2 = clf.predict_proba(x_test)\n",
    "sig_clf = CalibratedClassifierCV(clf, method=\"sigmoid\", cv=\"prefit\")\n",
    "sig_clf.fit(x_valid, y_valid)\n",
    "sig_clf_probs = sig_clf.predict_proba(x_test)\n",
    "sig_score = log_loss(y_test, sig_clf_probs)\n",
    "\n",
    "new_probs1 = add_probs(clf_probs1)\n",
    "new_probs2 = add_probs(sig_clf_probs)\n",
    "\n",
    "N = 4\n",
    "label0 = new_probs1[0]\n",
    "label1 = new_probs1[1]\n",
    "label2 = new_probs1[2]\n",
    "label3 = new_probs1[3]\n",
    "\n",
    " \n",
    "# The position of the bars on the x-axis\n",
    "r = [0,1,2,3]\n",
    " \n",
    "# Names of group and bar width\n",
    "names = ['label0','label1','label2','label3']\n",
    "barWidth = 1\n",
    " \n",
    "fig= plt.figure(figsize=(18,6))\n",
    "\n",
    "plt.subplot(1,2,1)\n",
    "    \n",
    "plt.bar(r, label0, color = 'y',edgecolor='white', width=barWidth)\n",
    "plt.bar(r, label1, bottom=label0, color='g',edgecolor='white', width=barWidth)\n",
    "plt.bar(r, label2, bottom=label1+label0, color='b', edgecolor='white', width=barWidth)\n",
    "plt.bar(r, label3, bottom=label2+label1+label0, color = 'c', edgecolor='white', width=barWidth)\n",
    "plt.legend(('0 (node)', '1 (squeeze)','2 (drop)','3 (nothing)'))\n",
    " \n",
    "plt.xticks(r, names)\n",
    "plt.xlabel(\"true test value\")\n",
    "plt.ylabel('Probability')\n",
    "plt.title('Class Probabilities with No Cross-Validation')\n",
    "\n",
    "# Second subplot\n",
    "\n",
    "plt.subplot(1, 2, 2)\n",
    "\n",
    "label0 = new_probs2[0]\n",
    "label1 = new_probs2[1]\n",
    "label2 = new_probs2[2]\n",
    "label3 = new_probs2[3]\n",
    "    \n",
    "plt.bar(r, label0, color = 'y',edgecolor='white', width=barWidth)\n",
    "plt.bar(r, label1, bottom=label0, color='g',edgecolor='white', width=barWidth)\n",
    "plt.bar(r, label2, bottom=label1+label0, color='b', edgecolor='white', width=barWidth)\n",
    "plt.bar(r, label3, bottom=label2+label1+label0, color = 'c', edgecolor='white', width=barWidth)\n",
    "plt.legend(('0 (node)', '1 (squeeze)','2 (drop)','3 (nothing)'))\n",
    " \n",
    "plt.xticks(r, names)\n",
    "plt.xlabel(\"true test value\")\n",
    "plt.ylabel('Probability')\n",
    "plt.title('Class Probabilities with Cross-Validation')\n",
    "\n",
    "plt.show()\n"
   ]
  },
  {
   "cell_type": "code",
   "execution_count": 331,
   "metadata": {},
   "outputs": [
    {
     "data": {
      "text/plain": [
       "array([[0.63 , 0.15 , 0.018, 0.202],\n",
       "       [0.632, 0.131, 0.   , 0.237],\n",
       "       [0.002, 0.991, 0.007, 0.   ],\n",
       "       [0.027, 0.956, 0.01 , 0.007],\n",
       "       [0.026, 0.107, 0.856, 0.011],\n",
       "       [0.005, 0.024, 0.968, 0.003],\n",
       "       [0.189, 0.22 , 0.015, 0.576],\n",
       "       [0.056, 0.008, 0.077, 0.859]])"
      ]
     },
     "execution_count": 331,
     "metadata": {},
     "output_type": "execute_result"
    }
   ],
   "source": [
    "clf_probs1"
   ]
  },
  {
   "cell_type": "code",
   "execution_count": 332,
   "metadata": {},
   "outputs": [
    {
     "data": {
      "text/plain": [
       "array([[0.41601623, 0.16782076, 0.02694017, 0.38922284],\n",
       "       [0.62211785, 0.13310302, 0.02383474, 0.22094439],\n",
       "       [0.02164466, 0.91293892, 0.02917326, 0.03624316],\n",
       "       [0.02748888, 0.88363127, 0.05087031, 0.03800954],\n",
       "       [0.01382012, 0.11273095, 0.83525022, 0.0381987 ],\n",
       "       [0.01215731, 0.05069029, 0.90258155, 0.03457085],\n",
       "       [0.13018501, 0.21179449, 0.02335211, 0.63466839],\n",
       "       [0.0880131 , 0.0630707 , 0.02887581, 0.82004039]])"
      ]
     },
     "execution_count": 332,
     "metadata": {},
     "output_type": "execute_result"
    }
   ],
   "source": [
    "sig_clf_probs"
   ]
  },
  {
   "cell_type": "code",
   "execution_count": null,
   "metadata": {},
   "outputs": [],
   "source": [
    "\n",
    "# Train uncalibrated random forest classifier on whole train and validation data and evaluate on test data\n",
    "clf = RandomForestClassifier(n_estimators=1000)\n",
    "clf.fit(x_train_valid, y_train_valid)\n",
    "clf_probs = clf.predict_proba(x_test)\n",
    "score = log_loss(y_test, clf_probs)"
   ]
  },
  {
   "cell_type": "code",
   "execution_count": 66,
   "metadata": {},
   "outputs": [
    {
     "data": {
      "text/plain": [
       "[0, 0, 1, 1, 2, 2, 3, 3]"
      ]
     },
     "execution_count": 66,
     "metadata": {},
     "output_type": "execute_result"
    }
   ],
   "source": [
    "# Train random forest classifier, calibrate on validation data and evaluate on test data\n",
    "\n",
    "clf = RandomForestClassifier(n_estimators=5000)\n",
    "clf.fit(x_train, y_train)\n",
    "clf_probs = clf.predict_proba(x_test)\n",
    "sig_clf = CalibratedClassifierCV(clf, method=\"sigmoid\", cv=\"prefit\")\n",
    "sig_clf.fit(x_valid, y_valid)\n",
    "sig_clf_probs = sig_clf.predict_proba(x_test)\n",
    "sig_score = log_loss(y_test, sig_clf_probs)"
   ]
  },
  {
   "cell_type": "code",
   "execution_count": 50,
   "metadata": {},
   "outputs": [
    {
     "data": {
      "text/plain": [
       "array([[0.20707208, 0.55427376, 0.09389592, 0.14475825],\n",
       "       [0.15935834, 0.40665798, 0.04456718, 0.3894165 ],\n",
       "       [0.0138608 , 0.72535904, 0.2246393 , 0.03614086],\n",
       "       [0.03922449, 0.78543352, 0.12835306, 0.04698893],\n",
       "       [0.01571766, 0.40308116, 0.54230883, 0.03889234],\n",
       "       [0.0148907 , 0.66512093, 0.284362  , 0.03562637],\n",
       "       [0.17870746, 0.36079511, 0.04398887, 0.41650856],\n",
       "       [0.06845249, 0.24791569, 0.02938343, 0.65424839]])"
      ]
     },
     "execution_count": 50,
     "metadata": {},
     "output_type": "execute_result"
    }
   ],
   "source": [
    "sig_clf_probs"
   ]
  },
  {
   "cell_type": "code",
   "execution_count": 194,
   "metadata": {},
   "outputs": [
    {
     "data": {
      "text/plain": [
       "[0, 0, 1, 1, 2, 2, 3, 3]"
      ]
     },
     "execution_count": 194,
     "metadata": {},
     "output_type": "execute_result"
    }
   ],
   "source": [
    "y_test"
   ]
  }
 ],
 "metadata": {
  "kernelspec": {
   "display_name": "Python 3",
   "language": "python",
   "name": "python3"
  },
  "language_info": {
   "codemirror_mode": {
    "name": "ipython",
    "version": 3
   },
   "file_extension": ".py",
   "mimetype": "text/x-python",
   "name": "python",
   "nbconvert_exporter": "python",
   "pygments_lexer": "ipython3",
   "version": "3.7.4"
  }
 },
 "nbformat": 4,
 "nbformat_minor": 2
}
