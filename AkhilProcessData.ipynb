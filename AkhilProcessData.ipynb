{
 "cells": [
  {
   "cell_type": "markdown",
   "metadata": {},
   "source": [
    "Akhil's Implementation \n",
    "\n",
    "For more intuition on what I did here, read my explanation under 3/28 on my research diary: https://docs.google.com/document/d/1DffgdYbgLj4ndfeerdjQI7s_Kbz9yDA7MgPv-Vb_jc4/edit?usp=sharing\n",
    "\n",
    "labels:\n",
    "    fall = 1\n",
    "    impact = 2\n",
    "    nothing = 3\n",
    "    squeeze = 4"
   ]
  },
  {
   "cell_type": "code",
   "execution_count": 1,
   "metadata": {},
   "outputs": [],
   "source": [
    "# Import packages\n",
    "import numpy as np\n",
    "import pandas as pd\n",
    "import matplotlib.pyplot as plt\n",
    "from matplotlib.pyplot import figure\n",
    "import sklearn as sk\n",
    "import scipy as sp\n",
    "from scipy import signal\n",
    "from sklearn.model_selection import train_test_split\n",
    "\n",
    "from sklearn.naive_bayes import GaussianNB\n",
    "from sklearn.tree import DecisionTreeClassifier \n",
    "from sklearn.ensemble import RandomForestClassifier\n",
    "from sklearn.multiclass import OneVsRestClassifier\n",
    "from sklearn.svm import SVC\n",
    "from sklearn.neighbors import KNeighborsClassifier "
   ]
  },
  {
   "cell_type": "code",
   "execution_count": 2,
   "metadata": {
    "scrolled": true
   },
   "outputs": [
    {
     "name": "stdout",
     "output_type": "stream",
     "text": [
      "Matrix Dimensions of data: (56, 1001, 15)\n",
      "Matrix Dimensions of labels: (56,)\n"
     ]
    }
   ],
   "source": [
    "#this block imports all the necessary data. Change the directory lines as needed\n",
    "\n",
    "#falldata\n",
    "string = \"/Users/akhil/Documents/BEST/AkhilProcessingData/fall\"\n",
    "numbers = np.arange(1,15)\n",
    "data = []\n",
    "for num in numbers:\n",
    "    filename = string + str(num) + '.csv'\n",
    "    d = pd.read_csv(filename, names = [\"IND\", \"time\", \"FSR_1\", \"FSR_2\", \"FSR_3\", \"FSR_4\", \"FSR_5\", \n",
    "                                               \"FSR_6\", \"FSR_7\", \"FSR_8\", \"FSR_9\", \"FSR_10\", \"FSR_11\", \"FSR_12\",\n",
    "                                              \"ACC_X\", \"ACC_Y\", \"ACC_Z\"])\n",
    "    d = d.drop(columns = [\"IND\", \"time\"])\n",
    "    d = d.to_numpy()\n",
    "    data.append(d)\n",
    "    \n",
    "#impactdata added\n",
    "string = \"/Users/akhil/Documents/BEST/AkhilProcessingData/impact\"\n",
    "numbers = np.arange(1,15)\n",
    "for num in numbers:\n",
    "    filename = string + str(num) + '.csv'\n",
    "    d = pd.read_csv(filename, names = [\"IND\", \"time\", \"FSR_1\", \"FSR_2\", \"FSR_3\", \"FSR_4\", \"FSR_5\", \n",
    "                                               \"FSR_6\", \"FSR_7\", \"FSR_8\", \"FSR_9\", \"FSR_10\", \"FSR_11\", \"FSR_12\",\n",
    "                                              \"ACC_X\", \"ACC_Y\", \"ACC_Z\"])\n",
    "    d = d.drop(columns = [\"IND\", \"time\"])\n",
    "    d = d.to_numpy()\n",
    "    data.append(d)\n",
    "    \n",
    "#nothingdata added\n",
    "string = \"/Users/akhil/Documents/BEST/AkhilProcessingData/nothing\"\n",
    "numbers = np.arange(1,15)\n",
    "for num in numbers:\n",
    "    filename = string + str(num) + '.csv'\n",
    "    d = pd.read_csv(filename, names = [\"IND\", \"time\", \"FSR_1\", \"FSR_2\", \"FSR_3\", \"FSR_4\", \"FSR_5\", \n",
    "                                               \"FSR_6\", \"FSR_7\", \"FSR_8\", \"FSR_9\", \"FSR_10\", \"FSR_11\", \"FSR_12\",\n",
    "                                              \"ACC_X\", \"ACC_Y\", \"ACC_Z\"])\n",
    "    d = d.drop(columns = [\"IND\", \"time\"])\n",
    "    d = d.to_numpy()\n",
    "    data.append(d)\n",
    "    \n",
    "#squeezedata added\n",
    "string = \"/Users/akhil/Documents/BEST/AkhilProcessingData/squeeze\"\n",
    "numbers = np.arange(1,15)\n",
    "for num in numbers:\n",
    "    filename = string + str(num) + '.csv'\n",
    "    d = pd.read_csv(filename, names = [\"IND\", \"time\", \"FSR_1\", \"FSR_2\", \"FSR_3\", \"FSR_4\", \"FSR_5\", \n",
    "                                               \"FSR_6\", \"FSR_7\", \"FSR_8\", \"FSR_9\", \"FSR_10\", \"FSR_11\", \"FSR_12\",\n",
    "                                              \"ACC_X\", \"ACC_Y\", \"ACC_Z\"])\n",
    "    d = d.drop(columns = [\"IND\", \"time\"])\n",
    "    d = d.to_numpy()\n",
    "    data.append(d)\n",
    "\n",
    "#create label array\n",
    "l1 = np.ones((14,), dtype=int) \n",
    "l2 = 2*np.ones((14,), dtype=int) \n",
    "l3 =  3*np.ones((14,), dtype=int)\n",
    "l4 =  4*np.ones((14,), dtype=int)\n",
    "labels = np.concatenate((l1, l2, l3, l4), axis=0)\n",
    "\n",
    "print(\"Matrix Dimensions of data: \" + str(np.shape(data)))\n",
    "print(\"Matrix Dimensions of labels: \" + str(np.shape(labels)))\n",
    "\n",
    "#need to reformat data so that it is 2 dimensional \n",
    "nsamples, nx, ny = np.shape(data)\n",
    "reformated_data = np.reshape(data,(nsamples, nx*ny))"
   ]
  },
  {
   "cell_type": "code",
   "execution_count": 3,
   "metadata": {},
   "outputs": [
    {
     "name": "stdout",
     "output_type": "stream",
     "text": [
      "0.9761904761904762\n",
      "0.7142857142857143\n",
      "Predicted labels = [4 3 3 2 3 1 3 4 4 3 3 2 2 2]\n",
      "Correct labels =   [4 3 3 2 1 1 3 4 4 3 1 1 3 2]\n"
     ]
    }
   ],
   "source": [
    "#Naive Bayes Implementation \n",
    "[X_train, X_test, y_train, y_test] = train_test_split(reformated_data, labels, random_state=0)\n",
    "nb = GaussianNB().fit(X_train, y_train)\n",
    "print(nb.score(X_train, y_train))\n",
    "print(nb.score(X_test, y_test))\n",
    "print(\"Predicted labels = \" + str(nb.predict(X_test)))\n",
    "print(\"Correct labels =   \" + str(y_test))"
   ]
  },
  {
   "cell_type": "code",
   "execution_count": 30,
   "metadata": {},
   "outputs": [
    {
     "name": "stdout",
     "output_type": "stream",
     "text": [
      "1.0\n",
      "0.7857142857142857\n",
      "Predicted labels = [4 2 3 2 1 1 3 4 4 1 1 1 1 2]\n",
      "Correct labels =   [4 3 3 2 1 1 3 4 4 3 1 1 3 2]\n"
     ]
    }
   ],
   "source": [
    "#Random Forest Implementation \n",
    "rf = RandomForestClassifier().fit(X_train, y_train)\n",
    "print(rf.score(X_train, y_train))\n",
    "print(rf.score(X_test, y_test))\n",
    "print(\"Predicted labels = \" + str(rf.predict(X_test)))\n",
    "print(\"Correct labels =   \" + str(y_test))"
   ]
  },
  {
   "cell_type": "code",
   "execution_count": 31,
   "metadata": {},
   "outputs": [
    {
     "name": "stdout",
     "output_type": "stream",
     "text": [
      "1.0\n",
      "0.5714285714285714\n",
      "Predicted labels = [4 3 3 2 3 1 1 4 4 3 2 3 2 3]\n",
      "Correct labels =   [4 3 3 2 1 1 3 4 4 3 1 1 3 2]\n"
     ]
    }
   ],
   "source": [
    "#Decision Tree Implementation\n",
    "dt = DecisionTreeClassifier().fit(X_train, y_train)\n",
    "print(dt.score(X_train, y_train))\n",
    "print(dt.score(X_test, y_test))\n",
    "print(\"Predicted labels = \" + str(dt.predict(X_test)))\n",
    "print(\"Correct labels =   \" + str(y_test))"
   ]
  },
  {
   "cell_type": "code",
   "execution_count": 32,
   "metadata": {},
   "outputs": [
    {
     "name": "stdout",
     "output_type": "stream",
     "text": [
      "0.5476190476190477\n",
      "0.35714285714285715\n",
      "Predicted labels = [4 2 2 2 2 2 2 4 4 2 2 2 2 2]\n",
      "Correct labels =   [4 3 3 2 1 1 3 4 4 3 1 1 3 2]\n"
     ]
    }
   ],
   "source": [
    "#Support Vector Implementation\n",
    "sv = SVC().fit(X_train, y_train)\n",
    "print(sv.score(X_train, y_train))\n",
    "print(sv.score(X_test, y_test))\n",
    "print(\"Predicted labels = \" + str(sv.predict(X_test)))\n",
    "print(\"Correct labels =   \" + str(y_test))"
   ]
  },
  {
   "cell_type": "code",
   "execution_count": 42,
   "metadata": {},
   "outputs": [
    {
     "name": "stdout",
     "output_type": "stream",
     "text": [
      "0.5476190476190477\n",
      "0.5\n",
      "Predicted labels = [4 1 1 2 3 1 3 4 4 1 1 3 1 1]\n",
      "Correct labels =   [4 3 3 2 1 1 3 4 4 3 1 1 3 2]\n"
     ]
    }
   ],
   "source": [
    "#K Nearest Neighbors Implementation\n",
    "knn = KNeighborsClassifier().fit(X_train, y_train)\n",
    "print(knn.score(X_train, y_train))\n",
    "print(knn.score(X_test, y_test))\n",
    "print(\"Predicted labels = \" + str(knn.predict(X_test)))\n",
    "print(\"Correct labels =   \" + str(y_test))"
   ]
  },
  {
   "cell_type": "code",
   "execution_count": 34,
   "metadata": {},
   "outputs": [
    {
     "name": "stdout",
     "output_type": "stream",
     "text": [
      "0.8095238095238095\n",
      "0.42857142857142855\n",
      "Predicted labels = [4 2 1 2 2 2 3 4 4 1 2 2 2 2]\n",
      "Correct labels =   [4 3 3 2 1 1 3 4 4 3 1 1 3 2]\n"
     ]
    }
   ],
   "source": [
    "#OnevsRest Implementation \n",
    "ovr = OneVsRestClassifier(SVC()).fit(X_train, y_train)\n",
    "print(ovr.score(X_train, y_train))\n",
    "print(ovr.score(X_test, y_test))\n",
    "print(\"Predicted labels = \" + str(ovr.predict(X_test)))\n",
    "print(\"Correct labels =   \" + str(y_test))"
   ]
  },
  {
   "cell_type": "code",
   "execution_count": null,
   "metadata": {},
   "outputs": [],
   "source": []
  }
 ],
 "metadata": {
  "kernelspec": {
   "display_name": "Python 3",
   "language": "python",
   "name": "python3"
  },
  "language_info": {
   "codemirror_mode": {
    "name": "ipython",
    "version": 3
   },
   "file_extension": ".py",
   "mimetype": "text/x-python",
   "name": "python",
   "nbconvert_exporter": "python",
   "pygments_lexer": "ipython3",
   "version": "3.6.5"
  }
 },
 "nbformat": 4,
 "nbformat_minor": 2
}
