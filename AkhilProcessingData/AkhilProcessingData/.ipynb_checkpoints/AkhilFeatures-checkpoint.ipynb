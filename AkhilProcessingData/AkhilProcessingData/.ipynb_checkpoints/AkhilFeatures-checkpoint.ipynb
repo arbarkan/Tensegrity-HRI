{
 "cells": [
  {
   "cell_type": "markdown",
   "metadata": {},
   "source": [
    "Akhil's Feature Engineering File\n",
    "\n",
    "labels:\n",
    "    fall = 1\n",
    "    impact = 2\n",
    "    nothing = 3\n",
    "    squeeze = 4"
   ]
  },
  {
   "cell_type": "code",
   "execution_count": 13,
   "metadata": {},
   "outputs": [],
   "source": [
    "# Import packages\n",
    "import numpy as np\n",
    "import pandas as pd\n",
    "import scipy as sp\n",
    "import matplotlib.pyplot as plt\n",
    "from matplotlib.pyplot import figure\n",
    "import sklearn as sk\n",
    "import scipy as sp\n",
    "from scipy import signal\n",
    "from copy import copy, deepcopy\n",
    "\n",
    "from sklearn.model_selection import train_test_split\n",
    "from sklearn.naive_bayes import GaussianNB\n",
    "from sklearn.tree import DecisionTreeClassifier \n",
    "from sklearn.ensemble import RandomForestClassifier\n",
    "from sklearn.multiclass import OneVsRestClassifier\n",
    "from sklearn.svm import SVC\n",
    "from sklearn.neighbors import KNeighborsClassifier \n"
   ]
  },
  {
   "cell_type": "code",
   "execution_count": 14,
   "metadata": {},
   "outputs": [
    {
     "name": "stdout",
     "output_type": "stream",
     "text": [
      "Matrix Dimensions of data: (56, 1001, 16)\n",
      "Matrix Dimensions of labels: (56,)\n"
     ]
    }
   ],
   "source": [
    "#This block imports all fall, impact, nothing, and squeeze data and formats \n",
    "    #it into a 56x1001x16 data matrix. Also creates a 56 length label array. \n",
    "#Each 1001x16 matrix contains the data from one test \n",
    "#The 16 columns are time (in seconds), FSR1, FSR2, FSR3, FSR4, FSR5, FSR6, FSR7, \n",
    "#    FSR8, FSR9, FSR10, FSR11, FSR12, acc_x, acc_y, acc_z. There are 1001 data points. \n",
    "#Note:\n",
    "    #The FSR data is raw data and has not been converted to Newtons\n",
    "    #The time data was converted to seconds \n",
    "\n",
    "#falldata\n",
    "string = \"/Users/akhil/Documents/BEST/AkhilProcessingData/fall\"\n",
    "numbers = np.arange(1,15) \n",
    "data = []\n",
    "for num in numbers:\n",
    "    filename = string + str(num) + '.csv'\n",
    "    d = pd.read_csv(filename, names = [\"IND\", \"time\", \"FSR_1\", \"FSR_2\", \"FSR_3\", \"FSR_4\", \"FSR_5\", \n",
    "                                               \"FSR_6\", \"FSR_7\", \"FSR_8\", \"FSR_9\", \"FSR_10\", \"FSR_11\", \"FSR_12\",\n",
    "                                              \"ACC_X\", \"ACC_Y\", \"ACC_Z\"])\n",
    "    \n",
    "    d[\"time\"] = d[\"time\"].apply(lambda x: (x - d[\"time\"][0])*1e-6)   #convert time to seconds\n",
    "    d = d.drop(columns = [\"IND\"])\n",
    "    d = d.to_numpy()\n",
    "    data.append(d)\n",
    "    \n",
    "#impactdata \n",
    "string = \"/Users/akhil/Documents/BEST/AkhilProcessingData/impact\"\n",
    "numbers = np.arange(1,15)\n",
    "for num in numbers:\n",
    "    filename = string + str(num) + '.csv'\n",
    "    d = pd.read_csv(filename, names = [\"IND\", \"time\", \"FSR_1\", \"FSR_2\", \"FSR_3\", \"FSR_4\", \"FSR_5\", \n",
    "                                               \"FSR_6\", \"FSR_7\", \"FSR_8\", \"FSR_9\", \"FSR_10\", \"FSR_11\", \"FSR_12\",\n",
    "                                              \"ACC_X\", \"ACC_Y\", \"ACC_Z\"])\n",
    "\n",
    "    d[\"time\"] = d[\"time\"].apply(lambda x: (x - d[\"time\"][0])*1e-6)   #convert time to seconds\n",
    "    d = d.drop(columns = [\"IND\"])\n",
    "    d = d.to_numpy()\n",
    "    data.append(d)\n",
    "    \n",
    "#nothingdata \n",
    "string = \"/Users/akhil/Documents/BEST/AkhilProcessingData/nothing\"\n",
    "numbers = np.arange(1,15)\n",
    "for num in numbers:\n",
    "    filename = string + str(num) + '.csv'\n",
    "    d = pd.read_csv(filename, names = [\"IND\", \"time\", \"FSR_1\", \"FSR_2\", \"FSR_3\", \"FSR_4\", \"FSR_5\", \n",
    "                                               \"FSR_6\", \"FSR_7\", \"FSR_8\", \"FSR_9\", \"FSR_10\", \"FSR_11\", \"FSR_12\",\n",
    "                                              \"ACC_X\", \"ACC_Y\", \"ACC_Z\"])\n",
    " \n",
    "    d[\"time\"] = d[\"time\"].apply(lambda x: (x - d[\"time\"][0])*1e-6)   #convert time to seconds\n",
    "    d = d.drop(columns = [\"IND\"])\n",
    "    d = d.to_numpy()\n",
    "    data.append(d)\n",
    "    \n",
    "    \n",
    "#squeezedata \n",
    "string = \"/Users/akhil/Documents/BEST/AkhilProcessingData/squeeze\"\n",
    "numbers = np.arange(1,15)\n",
    "for num in numbers:\n",
    "    filename = string + str(num) + '.csv'\n",
    "    d = pd.read_csv(filename, names = [\"IND\", \"time\", \"FSR_1\", \"FSR_2\", \"FSR_3\", \"FSR_4\", \"FSR_5\", \n",
    "                                               \"FSR_6\", \"FSR_7\", \"FSR_8\", \"FSR_9\", \"FSR_10\", \"FSR_11\", \"FSR_12\",\n",
    "                                              \"ACC_X\", \"ACC_Y\", \"ACC_Z\"])\n",
    "    d[\"time\"] = d[\"time\"].apply(lambda x: (x - d[\"time\"][0])*1e-6)   #convert time to seconds\n",
    "    d = d.drop(columns = [\"IND\"])\n",
    "    d = d.to_numpy()\n",
    "    data.append(d)\n",
    "    \n",
    "#create label array\n",
    "l1 = np.ones((14,), dtype=int) \n",
    "l2 = 2*np.ones((14,), dtype=int) \n",
    "l3 =  3*np.ones((14,), dtype=int)\n",
    "l4 =  4*np.ones((14,), dtype=int)\n",
    "labels = np.concatenate((l1, l2, l3, l4), axis=0)\n",
    "\n",
    "print(\"Matrix Dimensions of data: \" + str(np.shape(data)))\n",
    "print(\"Matrix Dimensions of labels: \" + str(np.shape(labels)))\n"
   ]
  },
  {
   "cell_type": "code",
   "execution_count": 15,
   "metadata": {},
   "outputs": [],
   "source": [
    "#Force Divider Function\n",
    "def force_divider(x):\n",
    "    k_outer = 3.738\n",
    "    k_inner = 0.368\n",
    "    dist = x/k_inner\n",
    "    return (k_outer + k_inner)*dist\n",
    "\n",
    "#FSR model function\n",
    "def FSR_model(x):\n",
    "    return 131.2*np.exp(0.7801*x)/1000\n",
    "\n",
    "#this code converts all raw fsr data in the data matrix to Newtons \n",
    "for m in data:\n",
    "    m[:,1:13] = force_divider(FSR_model(m[:,1:13] *5/1023))  \n",
    "\n",
    "#d = pd.DataFrame(data[1])\n",
    "#d.head()"
   ]
  },
  {
   "cell_type": "code",
   "execution_count": 16,
   "metadata": {},
   "outputs": [],
   "source": [
    "#feature function block \n",
    "def impulse(data_matrix):\n",
    "    #total impulse function for a single matrix of data \n",
    "    #iterates over data and computes the total impulse for all sensors over time \n",
    "    fsr_data = data_matrix[:,1:13]\n",
    "    impulse = 0\n",
    "    for col in np.arange(1,13):\n",
    "        single_FSR = data_matrix[:,col]\n",
    "        time = data_matrix[:,0]\n",
    "        for i in np.arange(0,len(time)-1):\n",
    "            delta_t = time[i+1]- time[i]\n",
    "            averagef = (single_FSR[i+1] + single_FSR[i])/2 \n",
    "            impulse = impulse + averagef*delta_t\n",
    "    return impulse \n",
    "\n",
    "\n",
    "def jerk(data_matrix): \n",
    "    #iterates over data and computes the max jerk for each sensor over time\n",
    "    #takes the max jerk over all FSR sensors and returns  \n",
    "    fsr_data = data_matrix[:,1:13]\n",
    "    jerk_array = []\n",
    "    for col in np.arange(1,13):\n",
    "        single_FSR = data_matrix[:,col]\n",
    "        time = data_matrix[:,0]\n",
    "        all_jerks = []\n",
    "        for i in np.arange(0,len(time)-1):\n",
    "            delta_t = time[i+1] - time[i]\n",
    "            delta_f = single_FSR[i+1] - single_FSR[i]\n",
    "            all_jerks.append(delta_f/delta_t)\n",
    "        jerk_array.append(np.amax(all_jerks))\n",
    "    max_jerk = np.amax(jerk_array)\n",
    "    return max_jerk\n",
    "\n",
    "def max_force(data_matrix):\n",
    "    #max force readings across all sensors for a single matrix of data \n",
    "    fsr_data = data_matrix[:,1:13]\n",
    "    force_array = [] \n",
    "    for col in np.arange(1,13):\n",
    "        single_FSR = data_matrix[:,col]\n",
    "        max_force_sensor = np.amax(single_FSR)\n",
    "        force_array.append(max_force_sensor)\n",
    "    max_force = np.amax(force_array)\n",
    "    return max_force"
   ]
  },
  {
   "cell_type": "code",
   "execution_count": 17,
   "metadata": {},
   "outputs": [
    {
     "name": "stderr",
     "output_type": "stream",
     "text": [
      "/Library/Frameworks/Python.framework/Versions/3.6/lib/python3.6/site-packages/scipy/signal/_arraytools.py:45: FutureWarning: Using a non-tuple sequence for multidimensional indexing is deprecated; use `arr[tuple(seq)]` instead of `arr[seq]`. In the future this will be interpreted as an array index, `arr[np.array(seq)]`, which will result either in an error or a different result.\n",
      "  b = a[a_slice]\n"
     ]
    },
    {
     "data": {
      "text/plain": [
       "[<matplotlib.lines.Line2D at 0x110c91630>]"
      ]
     },
     "execution_count": 17,
     "metadata": {},
     "output_type": "execute_result"
    },
    {
     "data": {
      "image/png": "[encoded data removed]",
      "text/plain": [
       "<Figure size 1080x720 with 1 Axes>"
      ]
     },
     "metadata": {
      "needs_background": "light"
     },
     "output_type": "display_data"
    }
   ],
   "source": [
    "#this block resamples data to smooth out noise \n",
    "\n",
    "smooth_data = deepcopy(data)\n",
    "\n",
    "for m in smooth_data:\n",
    "    for c in np.arange(1,13):\n",
    "        m[:,c] = signal.savgol_filter(m[:,c], 71, 3)\n",
    "        \n",
    "figure(figsize=(15, 10))\n",
    "plt.plot(smooth_data[1][:,0], smooth_data[1][:,3])\n",
    "\n"
   ]
  },
  {
   "cell_type": "code",
   "execution_count": 18,
   "metadata": {},
   "outputs": [
    {
     "data": {
      "text/plain": [
       "[<matplotlib.lines.Line2D at 0x1025d3978>]"
      ]
     },
     "execution_count": 18,
     "metadata": {},
     "output_type": "execute_result"
    },
    {
     "data": {
      "image/png": "[encoded data removed]",
      "text/plain": [
       "<Figure size 1080x720 with 1 Axes>"
      ]
     },
     "metadata": {
      "needs_background": "light"
     },
     "output_type": "display_data"
    }
   ],
   "source": [
    "figure(figsize=(15, 10))\n",
    "plt.plot(data[1][:,0], data[1][:,3])"
   ]
  },
  {
   "cell_type": "code",
   "execution_count": 19,
   "metadata": {},
   "outputs": [
    {
     "name": "stdout",
     "output_type": "stream",
     "text": [
      "Fall Values\n",
      "5.700517716044924\n",
      "7.155142007320025\n",
      "7.2496351670592265\n",
      "6.679478407572737\n",
      "6.705044053115962\n",
      "7.66209838299045\n",
      "6.593065264938326\n",
      "7.485458346283044\n",
      "6.99574542925274\n",
      "7.71277732089347\n",
      "8.01947863710372\n",
      "6.463423570733636\n",
      "6.74148308280984\n",
      "6.719474324587097\n",
      " \n",
      "Impact Values\n",
      "14.969329844604292\n",
      "12.2368952317815\n",
      "14.738286055270082\n",
      "10.952509849172428\n",
      "12.643678893368197\n",
      "12.630923966565774\n",
      "17.066881736646863\n",
      "16.705200476532188\n",
      "13.276334200173695\n",
      "10.323708132100416\n",
      "14.31870242382939\n",
      "15.889843035733517\n",
      "10.321459692144138\n",
      "11.257024488440479\n",
      " \n",
      "Nothing Values\n",
      "5.499234200927875\n",
      "7.128235878357762\n",
      "6.32238666319188\n",
      "6.66652714238241\n",
      "7.658253397765324\n",
      "6.1366478795769535\n",
      "6.438497793697736\n",
      "7.332079169935826\n",
      "6.99830077534342\n",
      "7.690507730009979\n",
      "7.163134535321446\n",
      "6.458222895375993\n",
      "6.99874589392656\n",
      "6.637305531041387\n",
      " \n",
      "Squeeze Values\n",
      "13.732140004517923\n",
      "14.608394183519426\n",
      "14.320074932823625\n",
      "14.85304265587832\n",
      "16.083983767771393\n",
      "16.90913180747534\n",
      "18.142800336555105\n",
      "13.671643644545878\n",
      "14.148696035361146\n",
      "10.677407201619905\n",
      "12.319181877482388\n",
      "17.452927705965795\n",
      "17.846195947556247\n",
      "13.643769512308042\n"
     ]
    }
   ],
   "source": [
    "#Max Force Comparison\n",
    "print(\"Fall Values\")\n",
    "for m in smooth_data[0:14]:\n",
    "    print(max_force(m))\n",
    "\n",
    "print(\" \")\n",
    "print(\"Impact Values\")\n",
    "for m in smooth_data[14:28]:\n",
    "    print(max_force(m))\n",
    "    \n",
    "print(\" \")\n",
    "print(\"Nothing Values\")\n",
    "for m in smooth_data[28:42]:\n",
    "    print(max_force(m))\n",
    "    \n",
    "print(\" \")\n",
    "print(\"Squeeze Values\")\n",
    "for m in smooth_data[42:57]:\n",
    "    print(max_force(m))"
   ]
  },
  {
   "cell_type": "code",
   "execution_count": 20,
   "metadata": {},
   "outputs": [
    {
     "name": "stdout",
     "output_type": "stream",
     "text": [
      "Fall Values\n",
      "12.969982816007311\n",
      "15.65451375054432\n",
      "20.0247867000922\n",
      "35.737946499883385\n",
      "6.837774883010812\n",
      "8.308839440844613\n",
      "28.898983042062838\n",
      "9.781132918729412\n",
      "8.727351460604329\n",
      "10.304656388538461\n",
      "10.899021698006008\n",
      "9.549455439664026\n",
      "5.7720128423794215\n",
      "14.80305612178047\n",
      " \n",
      "Impact Values\n",
      "581.829553207266\n",
      "351.5460829949579\n",
      "745.5346947411438\n",
      "439.0074857470308\n",
      "427.6085606215758\n",
      "525.4570909663289\n",
      "754.0341939638447\n",
      "679.7424753480896\n",
      "729.5237271601274\n",
      "462.1624920843198\n",
      "453.109751569309\n",
      "503.44419517854357\n",
      "338.8354878016852\n",
      "401.3712223073375\n",
      " \n",
      "Nothing Values\n",
      "11.270755191111967\n",
      "4.58955858046578\n",
      "5.548734287714581\n",
      "4.984047846655234\n",
      "8.304237566036177\n",
      "4.39235868298789\n",
      "7.028491964711884\n",
      "5.0540013610421255\n",
      "4.822774578916083\n",
      "10.90329303115227\n",
      "9.079052928909496\n",
      "4.661803891884141\n",
      "6.012500203077504\n",
      "5.057039618589834\n",
      " \n",
      "Squeeze Values\n",
      "74.56778306698966\n",
      "107.48843784160812\n",
      "75.84707696022417\n",
      "353.37963231544245\n",
      "348.0793214987747\n",
      "738.7025577917598\n",
      "669.5688228637091\n",
      "77.31628504143028\n",
      "127.53106114704256\n",
      "71.33049268803103\n",
      "93.19378530090025\n",
      "97.78259232180211\n",
      "115.1378568020358\n",
      "128.89155720010618\n"
     ]
    }
   ],
   "source": [
    "#Jerk Comparison\n",
    "print(\"Fall Values\")\n",
    "for m in smooth_data[0:14]:\n",
    "    print(jerk(m))\n",
    "\n",
    "print(\" \")\n",
    "print(\"Impact Values\")\n",
    "for m in smooth_data[14:28]:\n",
    "    print(jerk(m))\n",
    "    \n",
    "print(\" \")\n",
    "print(\"Nothing Values\")\n",
    "for m in smooth_data[28:42]:\n",
    "    print(jerk(m))\n",
    "    \n",
    "print(\" \")\n",
    "print(\"Squeeze Values\")\n",
    "for m in smooth_data[42:57]:\n",
    "    print(jerk(m))"
   ]
  },
  {
   "cell_type": "code",
   "execution_count": 21,
   "metadata": {},
   "outputs": [
    {
     "name": "stdout",
     "output_type": "stream",
     "text": [
      "Fall Values\n",
      "34.678842305621195\n",
      "41.081599365310915\n",
      "39.055761484551475\n",
      "38.235467095708486\n",
      "38.95848667908461\n",
      "40.32350584898645\n",
      "39.23003228021553\n",
      "37.01614322668847\n",
      "36.3835007445828\n",
      "38.07997766444202\n",
      "37.72304100813877\n",
      "38.683087580987\n",
      "37.81893451878263\n",
      "37.05810863280548\n",
      " \n",
      "Impact Values\n",
      "37.976350731742095\n",
      "39.63484794667595\n",
      "37.77451033240594\n",
      "37.52918306031099\n",
      "36.414953267577914\n",
      "36.68758609306845\n",
      "36.35800509736131\n",
      "37.54471919725042\n",
      "37.20144636488645\n",
      "37.60046747970637\n",
      "38.84112102054183\n",
      "40.7243179097306\n",
      "38.75270934281736\n",
      "39.6341871588958\n",
      " \n",
      "Nothing Values\n",
      "43.228248233336906\n",
      "40.19890345899421\n",
      "38.69290842410699\n",
      "38.72173698378132\n",
      "41.07640852730916\n",
      "36.86882055966274\n",
      "41.2364421376975\n",
      "36.66535751824005\n",
      "37.02946039734011\n",
      "38.5365216868018\n",
      "42.845041980271596\n",
      "37.762909932167524\n",
      "38.98876332426993\n",
      "38.1713633469124\n",
      " \n",
      "Squeeze Values\n",
      "67.59380176957288\n",
      "76.01886472542715\n",
      "71.75594079310883\n",
      "75.38342702094049\n",
      "81.26514852544716\n",
      "95.76836350075132\n",
      "116.05835972211408\n",
      "59.64428920804249\n",
      "57.78819750264262\n",
      "46.17055037617595\n",
      "51.46089073661827\n",
      "85.10720039704847\n",
      "93.68190721603342\n",
      "54.04249946126204\n"
     ]
    }
   ],
   "source": [
    "#Impulse Values\n",
    "print(\"Fall Values\")\n",
    "for m in smooth_data[0:14]:\n",
    "    print(impulse(m))\n",
    "\n",
    "print(\" \")\n",
    "print(\"Impact Values\")\n",
    "for m in smooth_data[14:28]:\n",
    "    print(impulse(m))\n",
    "    \n",
    "print(\" \")\n",
    "print(\"Nothing Values\")\n",
    "for m in smooth_data[28:42]:\n",
    "    print(impulse(m))\n",
    "    \n",
    "print(\" \")\n",
    "print(\"Squeeze Values\")\n",
    "for m in smooth_data[42:57]:\n",
    "    print(impulse(m))"
   ]
  },
  {
   "cell_type": "code",
   "execution_count": 25,
   "metadata": {},
   "outputs": [],
   "source": [
    "feature_data = []\n",
    "for m in smooth_data:\n",
    "    maxf = max_force(m)\n",
    "    j = jerk(m)\n",
    "    i = impulse(m)\n",
    "    features = [maxf, j, i]\n",
    "    feature_data.append(features)\n",
    "    \n",
    "np.shape(feature_data)\n",
    "\n",
    "[X_train, X_test, y_train, y_test] = train_test_split(feature_data, labels, random_state=0)\n"
   ]
  },
  {
   "cell_type": "code",
   "execution_count": 26,
   "metadata": {},
   "outputs": [
    {
     "name": "stdout",
     "output_type": "stream",
     "text": [
      "0.9047619047619048\n",
      "0.7857142857142857\n",
      "Predicted labels = [4 3 3 2 3 1 3 4 4 3 3 1 1 2]\n",
      "Correct labels =   [4 3 3 2 1 1 3 4 4 3 1 1 3 2]\n"
     ]
    }
   ],
   "source": [
    "#Naive Bayes Implementation \n",
    "nb = GaussianNB().fit(X_train, y_train)\n",
    "print(nb.score(X_train, y_train))\n",
    "print(nb.score(X_test, y_test))\n",
    "print(\"Predicted labels = \" + str(nb.predict(X_test)))\n",
    "print(\"Correct labels =   \" + str(y_test))"
   ]
  },
  {
   "cell_type": "code",
   "execution_count": 27,
   "metadata": {},
   "outputs": [
    {
     "name": "stdout",
     "output_type": "stream",
     "text": [
      "1.0\n",
      "0.8571428571428571\n",
      "Predicted labels = [4 3 3 2 3 1 1 4 4 3 1 1 3 2]\n",
      "Correct labels =   [4 3 3 2 1 1 3 4 4 3 1 1 3 2]\n"
     ]
    }
   ],
   "source": [
    "#Random Forest Implementation \n",
    "rf = RandomForestClassifier().fit(X_train, y_train)\n",
    "print(rf.score(X_train, y_train))\n",
    "print(rf.score(X_test, y_test))\n",
    "print(\"Predicted labels = \" + str(rf.predict(X_test)))\n",
    "print(\"Correct labels =   \" + str(y_test))"
   ]
  },
  {
   "cell_type": "code",
   "execution_count": 28,
   "metadata": {},
   "outputs": [
    {
     "name": "stdout",
     "output_type": "stream",
     "text": [
      "(42, 3)\n",
      " \n",
      "1.0\n",
      "1.0\n",
      "Predicted labels = [4 4 3 2 2 3 4 2 4 4 4]\n",
      "Correct labels =   [4 4 3 2 2 3 4 2 4 4 4]\n",
      " \n",
      "1.0\n",
      "1.0\n",
      "Predicted labels = [4 4 3 2 2 3 4 2 4 4 4]\n",
      "Correct labels =   [4 4 3 2 2 3 4 2 4 4 4]\n"
     ]
    }
   ],
   "source": [
    "#using just nothing, impact, and squeeze data\n",
    "cropped_data = smooth_data[14:57]\n",
    "cropped_labels = labels[14:57]\n",
    "\n",
    "feature_data = []\n",
    "for m in cropped_data:\n",
    "    maxf = max_force(m)\n",
    "    j = jerk(m)\n",
    "    i = impulse(m)\n",
    "    features = [maxf, j, i]\n",
    "    feature_data.append(features)\n",
    "    \n",
    "print(np.shape(feature_data))\n",
    "print(\" \")\n",
    "\n",
    "[X_train, X_test, y_train, y_test] = train_test_split(feature_data, cropped_labels, random_state=0)\n",
    "\n",
    "\n",
    "#Naive Bayes Implementation \n",
    "nb = GaussianNB().fit(X_train, y_train)\n",
    "print(nb.score(X_train, y_train))\n",
    "print(nb.score(X_test, y_test))\n",
    "print(\"Predicted labels = \" + str(nb.predict(X_test)))\n",
    "print(\"Correct labels =   \" + str(y_test))\n",
    "\n",
    "print(\" \")\n",
    "#Random Forest Implementation \n",
    "rf = RandomForestClassifier().fit(X_train, y_train)\n",
    "print(nb.score(X_train, y_train))\n",
    "print(nb.score(X_test, y_test))\n",
    "print(\"Predicted labels = \" + str(rf.predict(X_test)))\n",
    "print(\"Correct labels =   \" + str(y_test))"
   ]
  },
  {
   "cell_type": "code",
   "execution_count": null,
   "metadata": {},
   "outputs": [],
   "source": []
  },
  {
   "cell_type": "code",
   "execution_count": null,
   "metadata": {},
   "outputs": [],
   "source": []
  }
 ],
 "metadata": {
  "kernelspec": {
   "display_name": "Python 3",
   "language": "python",
   "name": "python3"
  },
  "language_info": {
   "codemirror_mode": {
    "name": "ipython",
    "version": 3
   },
   "file_extension": ".py",
   "mimetype": "text/x-python",
   "name": "python",
   "nbconvert_exporter": "python",
   "pygments_lexer": "ipython3",
   "version": "3.6.5"
  }
 },
 "nbformat": 4,
 "nbformat_minor": 2
}
